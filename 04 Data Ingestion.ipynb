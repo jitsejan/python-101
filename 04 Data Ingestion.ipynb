{
 "cells": [
  {
   "cell_type": "markdown",
   "metadata": {},
   "source": [
    "# Python training for data engineers\n",
    "## 04. Data ingestion\n",
    "\n",
    "### Goal\n",
    "This notebook describes how to retrieve information via two methods:\n",
    "* Web crawling using `requests` and `lxml`\n",
    "* API crawling using `requests` and `json` parsing\n",
    "\n",
    "After retrieving the data we do some simple processing and save the data to a different format.\n",
    "\n",
    "Other ways of importing data that are often used are (a.o.):\n",
    "* Read CSV directly\n",
    "* Read Excel\n",
    "* Connect to any database (postgres, mysql)\n",
    "* Use a Python library to connect to a database (pymongo)\n",
    "\n",
    "### Web crawling\n",
    "Import `requests` so we can make URL requests in Python:"
   ]
  },
  {
   "cell_type": "code",
   "execution_count": 1,
   "metadata": {},
   "outputs": [],
   "source": [
    "import requests"
   ]
  },
  {
   "cell_type": "markdown",
   "metadata": {},
   "source": [
    "Define the URL that we will connect to. In this case we will look for packages related to 'scikit'. The following code will reconstruct [`https://pypi.org/search/?q=scikit`](https://pypi.org/search/?q=scikit).\n"
   ]
  },
  {
   "cell_type": "code",
   "execution_count": 2,
   "metadata": {},
   "outputs": [
    {
     "data": {
      "text/plain": [
       "{'q': 'scikit'}"
      ]
     },
     "execution_count": 2,
     "metadata": {},
     "output_type": "execute_result"
    }
   ],
   "source": [
    "# URL to connect to\n",
    "url = 'https://pypi.python.org/search/'\n",
    "searchterm = 'scikit'\n",
    "params = {\n",
    "    'q': searchterm\n",
    "}\n",
    "params"
   ]
  },
  {
   "cell_type": "markdown",
   "metadata": {},
   "source": [
    "Execute the request to the pypi URL.\n"
   ]
  },
  {
   "cell_type": "code",
   "execution_count": 3,
   "metadata": {},
   "outputs": [
    {
     "data": {
      "text/plain": [
       "'https://pypi.org/search/?q=scikit'"
      ]
     },
     "execution_count": 3,
     "metadata": {},
     "output_type": "execute_result"
    }
   ],
   "source": [
    "response = requests.get(url, params)\n",
    "# Print the response URL\n",
    "response.url"
   ]
  },
  {
   "cell_type": "markdown",
   "metadata": {},
   "source": [
    "The response contains a whole HTML page as a binary string as can be seen when printing the content (only the first 200 characters are shown to not pollute this notebook)."
   ]
  },
  {
   "cell_type": "code",
   "execution_count": 4,
   "metadata": {},
   "outputs": [
    {
     "data": {
      "text/plain": [
       "b'\\n\\n\\n\\n<!DOCTYPE html>\\n<html lang=\"en\">\\n  <head>\\n    <meta charset=\"utf-8\">\\n    <meta http-equiv=\"X-UA-Compatible\" content=\"IE=edge\">\\n    <meta name=\"viewport\" content=\"width=device-width, initial-scale='"
      ]
     },
     "execution_count": 4,
     "metadata": {},
     "output_type": "execute_result"
    }
   ],
   "source": [
    "response.content[0:200]"
   ]
  },
  {
   "cell_type": "markdown",
   "metadata": {},
   "source": [
    "Because we work with different notebooks, we will save the variable to a file on disk so we can use it later on. `pickle` is a tool that is often used (not only in Python!) to save variables 'raw'. The saving of the variable is type-agnostic; it is expected by the developer he knows what he is saving and what he is loading. I.e. an integer variable should not be loaded as a dictonary."
   ]
  },
  {
   "cell_type": "code",
   "execution_count": 5,
   "metadata": {},
   "outputs": [],
   "source": [
    "import pickle\n",
    "pickle.dump(response.content, open(\"xmlcontent_notebook_04.pickle\", \"wb\"))"
   ]
  },
  {
   "cell_type": "code",
   "execution_count": 6,
   "metadata": {},
   "outputs": [
    {
     "name": "stdout",
     "output_type": "stream",
     "text": [
      "-rw-r--r--  1 jitsejan  staff  325463 Apr 25 01:36 xmlcontent_notebook_04.pickle\r\n"
     ]
    }
   ],
   "source": [
    "ls -la xmlcontent_notebook_04.pickle"
   ]
  },
  {
   "cell_type": "markdown",
   "metadata": {},
   "source": [
    "### API"
   ]
  },
  {
   "cell_type": "markdown",
   "metadata": {},
   "source": [
    "#### Retrieving the data\n",
    "Let's define the URL and retrieve all tags related to `Python`."
   ]
  },
  {
   "cell_type": "code",
   "execution_count": 7,
   "metadata": {},
   "outputs": [],
   "source": [
    "API_URL = 'https://api.stackexchange.com/2.2/tags/python/related?pagesize=100&site=stackoverflow'"
   ]
  },
  {
   "cell_type": "markdown",
   "metadata": {},
   "source": [
    "Retrieve the JSON response from the API."
   ]
  },
  {
   "cell_type": "code",
   "execution_count": 8,
   "metadata": {},
   "outputs": [],
   "source": [
    "import requests\n",
    "response = requests.get(API_URL)\n",
    "data = response.json()"
   ]
  },
  {
   "cell_type": "markdown",
   "metadata": {},
   "source": [
    "The data is a huge JSON string, which is basically a dictionary in Python."
   ]
  },
  {
   "cell_type": "code",
   "execution_count": 9,
   "metadata": {},
   "outputs": [
    {
     "data": {
      "text/plain": [
       "{'items': [{'has_synonyms': True,\n",
       "   'is_moderator_only': False,\n",
       "   'is_required': False,\n",
       "   'count': 940527,\n",
       "   'name': 'python'},\n",
       "  {'has_synonyms': False,\n",
       "   'is_moderator_only': False,\n",
       "   'is_required': False,\n",
       "   'count': 86864,\n",
       "   'name': 'django'},\n",
       "  {'has_synonyms': True,\n",
       "   'is_moderator_only': False,\n",
       "   'is_required': False,\n",
       "   'count': 62823,\n",
       "   'name': 'python-3.x'},\n",
       "  {'has_synonyms': False,\n",
       "   'is_moderator_only': False,\n",
       "   'is_required': False,\n",
       "   'count': 59204,\n",
       "   'name': 'pandas'},\n",
       "  {'has_synonyms': False,\n",
       "   'is_moderator_only': False,\n",
       "   'is_required': False,\n",
       "   'count': 53225,\n",
       "   'name': 'python-2.7'},\n",
       "  {'has_synonyms': False,\n",
       "   'is_moderator_only': False,\n",
       "   'is_required': False,\n",
       "   'count': 42574,\n",
       "   'name': 'numpy'},\n",
       "  {'has_synonyms': True,\n",
       "   'is_moderator_only': False,\n",
       "   'is_required': False,\n",
       "   'count': 30503,\n",
       "   'name': 'list'},\n",
       "  {'has_synonyms': True,\n",
       "   'is_moderator_only': False,\n",
       "   'is_required': False,\n",
       "   'count': 25829,\n",
       "   'name': 'matplotlib'},\n",
       "  {'has_synonyms': True,\n",
       "   'is_moderator_only': False,\n",
       "   'is_required': False,\n",
       "   'count': 21991,\n",
       "   'name': 'dictionary'},\n",
       "  {'has_synonyms': True,\n",
       "   'is_moderator_only': False,\n",
       "   'is_required': False,\n",
       "   'count': 20116,\n",
       "   'name': 'regex'},\n",
       "  {'has_synonyms': True,\n",
       "   'is_moderator_only': False,\n",
       "   'is_required': False,\n",
       "   'count': 17262,\n",
       "   'name': 'flask'},\n",
       "  {'has_synonyms': False,\n",
       "   'is_moderator_only': False,\n",
       "   'is_required': False,\n",
       "   'count': 17071,\n",
       "   'name': 'tkinter'},\n",
       "  {'has_synonyms': True,\n",
       "   'is_moderator_only': False,\n",
       "   'is_required': False,\n",
       "   'count': 16199,\n",
       "   'name': 'string'},\n",
       "  {'has_synonyms': True,\n",
       "   'is_moderator_only': False,\n",
       "   'is_required': False,\n",
       "   'count': 15832,\n",
       "   'name': 'csv'},\n",
       "  {'has_synonyms': True,\n",
       "   'is_moderator_only': False,\n",
       "   'is_required': False,\n",
       "   'count': 15563,\n",
       "   'name': 'arrays'},\n",
       "  {'has_synonyms': True,\n",
       "   'is_moderator_only': False,\n",
       "   'is_required': False,\n",
       "   'count': 14821,\n",
       "   'name': 'dataframe'},\n",
       "  {'has_synonyms': True,\n",
       "   'is_moderator_only': False,\n",
       "   'is_required': False,\n",
       "   'count': 13432,\n",
       "   'name': 'json'},\n",
       "  {'has_synonyms': True,\n",
       "   'is_moderator_only': False,\n",
       "   'is_required': False,\n",
       "   'count': 11852,\n",
       "   'name': 'tensorflow'},\n",
       "  {'has_synonyms': True,\n",
       "   'is_moderator_only': False,\n",
       "   'is_required': False,\n",
       "   'count': 11405,\n",
       "   'name': 'google-app-engine'},\n",
       "  {'has_synonyms': True,\n",
       "   'is_moderator_only': False,\n",
       "   'is_required': False,\n",
       "   'count': 11214,\n",
       "   'name': 'html'},\n",
       "  {'has_synonyms': True,\n",
       "   'is_moderator_only': False,\n",
       "   'is_required': False,\n",
       "   'count': 10657,\n",
       "   'name': 'mysql'},\n",
       "  {'has_synonyms': False,\n",
       "   'is_moderator_only': False,\n",
       "   'is_required': False,\n",
       "   'count': 10588,\n",
       "   'name': 'selenium'},\n",
       "  {'has_synonyms': True,\n",
       "   'is_moderator_only': False,\n",
       "   'is_required': False,\n",
       "   'count': 10477,\n",
       "   'name': 'beautifulsoup'},\n",
       "  {'has_synonyms': False,\n",
       "   'is_moderator_only': False,\n",
       "   'is_required': False,\n",
       "   'count': 10106,\n",
       "   'name': 'linux'},\n",
       "  {'has_synonyms': False,\n",
       "   'is_moderator_only': False,\n",
       "   'is_required': False,\n",
       "   'count': 9971,\n",
       "   'name': 'scipy'},\n",
       "  {'has_synonyms': True,\n",
       "   'is_moderator_only': False,\n",
       "   'is_required': False,\n",
       "   'count': 9326,\n",
       "   'name': 'multithreading'},\n",
       "  {'has_synonyms': False,\n",
       "   'is_moderator_only': False,\n",
       "   'is_required': False,\n",
       "   'count': 9145,\n",
       "   'name': 'opencv'},\n",
       "  {'has_synonyms': False,\n",
       "   'is_moderator_only': False,\n",
       "   'is_required': False,\n",
       "   'count': 9065,\n",
       "   'name': 'sqlalchemy'},\n",
       "  {'has_synonyms': True,\n",
       "   'is_moderator_only': False,\n",
       "   'is_required': False,\n",
       "   'count': 8940,\n",
       "   'name': 'javascript'},\n",
       "  {'has_synonyms': True,\n",
       "   'is_moderator_only': False,\n",
       "   'is_required': False,\n",
       "   'count': 8657,\n",
       "   'name': 'windows'},\n",
       "  {'has_synonyms': True,\n",
       "   'is_moderator_only': False,\n",
       "   'is_required': False,\n",
       "   'count': 8101,\n",
       "   'name': 'scikit-learn'},\n",
       "  {'has_synonyms': True,\n",
       "   'is_moderator_only': False,\n",
       "   'is_required': False,\n",
       "   'count': 8031,\n",
       "   'name': 'django-models'},\n",
       "  {'has_synonyms': True,\n",
       "   'is_moderator_only': False,\n",
       "   'is_required': False,\n",
       "   'count': 7919,\n",
       "   'name': 'function'},\n",
       "  {'has_synonyms': False,\n",
       "   'is_moderator_only': False,\n",
       "   'is_required': False,\n",
       "   'count': 7860,\n",
       "   'name': 'pyqt'},\n",
       "  {'has_synonyms': False,\n",
       "   'is_moderator_only': False,\n",
       "   'is_required': False,\n",
       "   'count': 7715,\n",
       "   'name': 'machine-learning'},\n",
       "  {'has_synonyms': True,\n",
       "   'is_moderator_only': False,\n",
       "   'is_required': False,\n",
       "   'count': 7697,\n",
       "   'name': 'web-scraping'},\n",
       "  {'has_synonyms': True,\n",
       "   'is_moderator_only': False,\n",
       "   'is_required': False,\n",
       "   'count': 7689,\n",
       "   'name': 'class'},\n",
       "  {'has_synonyms': False,\n",
       "   'is_moderator_only': False,\n",
       "   'is_required': False,\n",
       "   'count': 7354,\n",
       "   'name': 'pygame'},\n",
       "  {'has_synonyms': True,\n",
       "   'is_moderator_only': False,\n",
       "   'is_required': False,\n",
       "   'count': 7321,\n",
       "   'name': 'loops'},\n",
       "  {'has_synonyms': True,\n",
       "   'is_moderator_only': False,\n",
       "   'is_required': False,\n",
       "   'count': 7204,\n",
       "   'name': 'xml'},\n",
       "  {'has_synonyms': False,\n",
       "   'is_moderator_only': False,\n",
       "   'is_required': False,\n",
       "   'count': 7013,\n",
       "   'name': 'scrapy'},\n",
       "  {'has_synonyms': True,\n",
       "   'is_moderator_only': False,\n",
       "   'is_required': False,\n",
       "   'count': 6986,\n",
       "   'name': 'pip'},\n",
       "  {'has_synonyms': True,\n",
       "   'is_moderator_only': False,\n",
       "   'is_required': False,\n",
       "   'count': 6766,\n",
       "   'name': 'macos'},\n",
       "  {'has_synonyms': True,\n",
       "   'is_moderator_only': False,\n",
       "   'is_required': False,\n",
       "   'count': 6726,\n",
       "   'name': 'file'},\n",
       "  {'has_synonyms': True,\n",
       "   'is_moderator_only': False,\n",
       "   'is_required': False,\n",
       "   'count': 6668,\n",
       "   'name': 'c++'},\n",
       "  {'has_synonyms': True,\n",
       "   'is_moderator_only': False,\n",
       "   'is_required': False,\n",
       "   'count': 6612,\n",
       "   'name': 'datetime'},\n",
       "  {'has_synonyms': True,\n",
       "   'is_moderator_only': False,\n",
       "   'is_required': False,\n",
       "   'count': 6488,\n",
       "   'name': 'algorithm'},\n",
       "  {'has_synonyms': True,\n",
       "   'is_moderator_only': False,\n",
       "   'is_required': False,\n",
       "   'count': 6237,\n",
       "   'name': 'sockets'},\n",
       "  {'has_synonyms': True,\n",
       "   'is_moderator_only': False,\n",
       "   'is_required': False,\n",
       "   'count': 6201,\n",
       "   'name': 'subprocess'},\n",
       "  {'has_synonyms': True,\n",
       "   'is_moderator_only': False,\n",
       "   'is_required': False,\n",
       "   'count': 6001,\n",
       "   'name': 'python-requests'}],\n",
       " 'has_more': False,\n",
       " 'quota_max': 300,\n",
       " 'quota_remaining': 148}"
      ]
     },
     "execution_count": 9,
     "metadata": {},
     "output_type": "execute_result"
    }
   ],
   "source": [
    "data"
   ]
  },
  {
   "cell_type": "markdown",
   "metadata": {},
   "source": [
    "Check the type of the data:"
   ]
  },
  {
   "cell_type": "code",
   "execution_count": 10,
   "metadata": {},
   "outputs": [
    {
     "data": {
      "text/plain": [
       "dict"
      ]
     },
     "execution_count": 10,
     "metadata": {},
     "output_type": "execute_result"
    }
   ],
   "source": [
    "type(data)"
   ]
  },
  {
   "cell_type": "markdown",
   "metadata": {},
   "source": [
    "And check how many items there are inside the data:"
   ]
  },
  {
   "cell_type": "code",
   "execution_count": 11,
   "metadata": {},
   "outputs": [
    {
     "data": {
      "text/plain": [
       "50"
      ]
     },
     "execution_count": 11,
     "metadata": {},
     "output_type": "execute_result"
    }
   ],
   "source": [
    "len(data['items'])"
   ]
  },
  {
   "cell_type": "markdown",
   "metadata": {},
   "source": [
    "That's it for a simple API crawler. In more advanced API crawlers, you should also deal with pagination to scroll through big amounts of pages of data, but for the scope of this course this is omitted.\n",
    "\n",
    "Let's save the JSON data to a pickle to be used by the next notebook:"
   ]
  },
  {
   "cell_type": "code",
   "execution_count": 12,
   "metadata": {},
   "outputs": [],
   "source": [
    "pickle.dump(data, open(\"jsoncontent_notebook_04.pickle\", \"wb\"))"
   ]
  },
  {
   "cell_type": "code",
   "execution_count": 13,
   "metadata": {},
   "outputs": [
    {
     "name": "stdout",
     "output_type": "stream",
     "text": [
      "-rw-r--r--  1 jitsejan  staff  359970 Apr 25 00:31 json_dataframe_notebook_05.pickle\r\n",
      "-rw-r--r--  1 jitsejan  staff   21582 Apr 25 00:54 json_dataframe_notebook_07.pickle\r\n",
      "-rw-r--r--  1 jitsejan  staff    1942 Apr 25 01:36 jsoncontent_notebook_04.pickle\r\n",
      "-rw-r--r--  1 jitsejan  staff    5534 Apr 25 00:31 xml_dataframe_notebook_05.pickle\r\n",
      "-rw-r--r--  1 jitsejan  staff  325463 Apr 25 01:36 xmlcontent_notebook_04.pickle\r\n"
     ]
    }
   ],
   "source": [
    "ll *.pickle"
   ]
  },
  {
   "cell_type": "markdown",
   "metadata": {},
   "source": [
    "### Important links\n",
    "\n",
    "[Using Pickle](https://wiki.python.org/moin/UsingPickle)"
   ]
  }
 ],
 "metadata": {
  "kernelspec": {
   "display_name": "Python 3",
   "language": "python",
   "name": "python3"
  },
  "language_info": {
   "codemirror_mode": {
    "name": "ipython",
    "version": 3
   },
   "file_extension": ".py",
   "mimetype": "text/x-python",
   "name": "python",
   "nbconvert_exporter": "python",
   "pygments_lexer": "ipython3",
   "version": "3.6.3"
  }
 },
 "nbformat": 4,
 "nbformat_minor": 2
}
