{
 "cells": [
  {
   "cell_type": "markdown",
   "metadata": {},
   "source": [
    "# Python training for data engineers\n",
    "## 04. Data ingestion\n",
    "### Web crawling\n",
    "Import `requests` so we can make URL requests in Python:"
   ]
  },
  {
   "cell_type": "code",
   "execution_count": 1,
   "metadata": {},
   "outputs": [],
   "source": [
    "import requests"
   ]
  },
  {
   "cell_type": "markdown",
   "metadata": {},
   "source": [
    "Define the URL that we will connect to. In this case we will look for packages related to 'machine learning'. The following code will reconstruct [`https://pypi.python.org/pypi?%3Aaction=search&term=machine+learning&submit=search`](https://pypi.python.org/pypi?%3Aaction=search&term=machine+learning&submit=search).\n"
   ]
  },
  {
   "cell_type": "code",
   "execution_count": 2,
   "metadata": {},
   "outputs": [
    {
     "data": {
      "text/plain": [
       "{':action': 'search', 'submit': 'search', 'term': 'machine learning'}"
      ]
     },
     "execution_count": 2,
     "metadata": {},
     "output_type": "execute_result"
    }
   ],
   "source": [
    "# URL to connect to\n",
    "url = 'https://pypi.python.org/pypi'\n",
    "searchterm = 'machine learning'\n",
    "params = {':action':'search',\n",
    "          'term':searchterm,\n",
    "          'submit':'search'}\n",
    "params"
   ]
  },
  {
   "cell_type": "markdown",
   "metadata": {},
   "source": [
    "Execute the request to the pypi URL.\n"
   ]
  },
  {
   "cell_type": "code",
   "execution_count": 3,
   "metadata": {},
   "outputs": [
    {
     "data": {
      "text/plain": [
       "u'https://pypi.python.org/pypi?term=machine+learning&%3Aaction=search&submit=search'"
      ]
     },
     "execution_count": 3,
     "metadata": {},
     "output_type": "execute_result"
    }
   ],
   "source": [
    "response = requests.get(url, params)\n",
    "# Print the response URL\n",
    "response.url"
   ]
  },
  {
   "cell_type": "markdown",
   "metadata": {},
   "source": [
    "The response contains a whole HTML page as a binary string as can be seen when printing the content (only the first 200 characters)."
   ]
  },
  {
   "cell_type": "code",
   "execution_count": 4,
   "metadata": {},
   "outputs": [
    {
     "data": {
      "text/plain": [
       "'<?xml version=\"1.0\" encoding=\"utf-8\"?>\\n<!DOCTYPE html PUBLIC \"-//W3C//DTD XHTML 1.0 Transitional//EN\" \"http://www.w3.org/TR/xhtml1/DTD/xhtml1-transitional.dtd\">\\n\\n  <html xmlns=\"http://www.w3.org/1999/'"
      ]
     },
     "execution_count": 4,
     "metadata": {},
     "output_type": "execute_result"
    }
   ],
   "source": [
    "response.content[0:200]"
   ]
  },
  {
   "cell_type": "markdown",
   "metadata": {},
   "source": [
    "Because we work with different notebooks, we will save the variable to a file on disk so we can use it later on."
   ]
  },
  {
   "cell_type": "code",
   "execution_count": 5,
   "metadata": {},
   "outputs": [],
   "source": [
    "import pickle\n",
    "pickle.dump(response.content, open(\"xmlcontent_notebook_04.pickle\", \"wb\"))"
   ]
  },
  {
   "cell_type": "code",
   "execution_count": 6,
   "metadata": {},
   "outputs": [
    {
     "name": "stdout",
     "output_type": "stream",
     "text": [
      "-rw-rw-r-- 1 jitsejan jitsejan 243226 Apr 13 05:01 xmlcontent_notebook_04.pickle\r\n"
     ]
    }
   ],
   "source": [
    "ls -la xmlcontent_notebook_04.pickle"
   ]
  },
  {
   "cell_type": "markdown",
   "metadata": {},
   "source": [
    "### API"
   ]
  },
  {
   "cell_type": "markdown",
   "metadata": {},
   "source": [
    "#### Retrieving the data\n",
    "Lets define the URL and retrieve all tags related to `Python`."
   ]
  },
  {
   "cell_type": "code",
   "execution_count": 7,
   "metadata": {},
   "outputs": [],
   "source": [
    "API_URL = 'https://api.stackexchange.com/2.2/tags/python/related?pagesize=100&site=stackoverflow'"
   ]
  },
  {
   "cell_type": "markdown",
   "metadata": {},
   "source": [
    "Retrieve the JSON response from the API."
   ]
  },
  {
   "cell_type": "code",
   "execution_count": 8,
   "metadata": {},
   "outputs": [],
   "source": [
    "import requests\n",
    "response = requests.get(API_URL)\n",
    "data = response.json()"
   ]
  },
  {
   "cell_type": "markdown",
   "metadata": {},
   "source": [
    "The data is a huge JSON string, which is basically a dictionary in Python."
   ]
  },
  {
   "cell_type": "code",
   "execution_count": 9,
   "metadata": {},
   "outputs": [
    {
     "data": {
      "text/plain": [
       "{u'has_more': False,\n",
       " u'items': [{u'count': 934231,\n",
       "   u'has_synonyms': True,\n",
       "   u'is_moderator_only': False,\n",
       "   u'is_required': False,\n",
       "   u'name': u'python'},\n",
       "  {u'count': 86456,\n",
       "   u'has_synonyms': False,\n",
       "   u'is_moderator_only': False,\n",
       "   u'is_required': False,\n",
       "   u'name': u'django'},\n",
       "  {u'count': 61909,\n",
       "   u'has_synonyms': True,\n",
       "   u'is_moderator_only': False,\n",
       "   u'is_required': False,\n",
       "   u'name': u'python-3.x'},\n",
       "  {u'count': 58314,\n",
       "   u'has_synonyms': False,\n",
       "   u'is_moderator_only': False,\n",
       "   u'is_required': False,\n",
       "   u'name': u'pandas'},\n",
       "  {u'count': 53010,\n",
       "   u'has_synonyms': False,\n",
       "   u'is_moderator_only': False,\n",
       "   u'is_required': False,\n",
       "   u'name': u'python-2.7'},\n",
       "  {u'count': 42225,\n",
       "   u'has_synonyms': False,\n",
       "   u'is_moderator_only': False,\n",
       "   u'is_required': False,\n",
       "   u'name': u'numpy'},\n",
       "  {u'count': 30279,\n",
       "   u'has_synonyms': True,\n",
       "   u'is_moderator_only': False,\n",
       "   u'is_required': False,\n",
       "   u'name': u'list'},\n",
       "  {u'count': 25636,\n",
       "   u'has_synonyms': True,\n",
       "   u'is_moderator_only': False,\n",
       "   u'is_required': False,\n",
       "   u'name': u'matplotlib'},\n",
       "  {u'count': 21803,\n",
       "   u'has_synonyms': True,\n",
       "   u'is_moderator_only': False,\n",
       "   u'is_required': False,\n",
       "   u'name': u'dictionary'},\n",
       "  {u'count': 20008,\n",
       "   u'has_synonyms': True,\n",
       "   u'is_moderator_only': False,\n",
       "   u'is_required': False,\n",
       "   u'name': u'regex'},\n",
       "  {u'count': 17114,\n",
       "   u'has_synonyms': True,\n",
       "   u'is_moderator_only': False,\n",
       "   u'is_required': False,\n",
       "   u'name': u'flask'},\n",
       "  {u'count': 16968,\n",
       "   u'has_synonyms': False,\n",
       "   u'is_moderator_only': False,\n",
       "   u'is_required': False,\n",
       "   u'name': u'tkinter'},\n",
       "  {u'count': 16106,\n",
       "   u'has_synonyms': True,\n",
       "   u'is_moderator_only': False,\n",
       "   u'is_required': False,\n",
       "   u'name': u'string'},\n",
       "  {u'count': 15711,\n",
       "   u'has_synonyms': True,\n",
       "   u'is_moderator_only': False,\n",
       "   u'is_required': False,\n",
       "   u'name': u'csv'},\n",
       "  {u'count': 15455,\n",
       "   u'has_synonyms': True,\n",
       "   u'is_moderator_only': False,\n",
       "   u'is_required': False,\n",
       "   u'name': u'arrays'},\n",
       "  {u'count': 14504,\n",
       "   u'has_synonyms': True,\n",
       "   u'is_moderator_only': False,\n",
       "   u'is_required': False,\n",
       "   u'name': u'dataframe'},\n",
       "  {u'count': 13330,\n",
       "   u'has_synonyms': True,\n",
       "   u'is_moderator_only': False,\n",
       "   u'is_required': False,\n",
       "   u'name': u'json'},\n",
       "  {u'count': 11537,\n",
       "   u'has_synonyms': True,\n",
       "   u'is_moderator_only': False,\n",
       "   u'is_required': False,\n",
       "   u'name': u'tensorflow'},\n",
       "  {u'count': 11396,\n",
       "   u'has_synonyms': True,\n",
       "   u'is_moderator_only': False,\n",
       "   u'is_required': False,\n",
       "   u'name': u'google-app-engine'},\n",
       "  {u'count': 11138,\n",
       "   u'has_synonyms': True,\n",
       "   u'is_moderator_only': False,\n",
       "   u'is_required': False,\n",
       "   u'name': u'html'},\n",
       "  {u'count': 10604,\n",
       "   u'has_synonyms': True,\n",
       "   u'is_moderator_only': False,\n",
       "   u'is_required': False,\n",
       "   u'name': u'mysql'},\n",
       "  {u'count': 10484,\n",
       "   u'has_synonyms': False,\n",
       "   u'is_moderator_only': False,\n",
       "   u'is_required': False,\n",
       "   u'name': u'selenium'},\n",
       "  {u'count': 10396,\n",
       "   u'has_synonyms': True,\n",
       "   u'is_moderator_only': False,\n",
       "   u'is_required': False,\n",
       "   u'name': u'beautifulsoup'},\n",
       "  {u'count': 10076,\n",
       "   u'has_synonyms': False,\n",
       "   u'is_moderator_only': False,\n",
       "   u'is_required': False,\n",
       "   u'name': u'linux'},\n",
       "  {u'count': 9920,\n",
       "   u'has_synonyms': False,\n",
       "   u'is_moderator_only': False,\n",
       "   u'is_required': False,\n",
       "   u'name': u'scipy'},\n",
       "  {u'count': 9301,\n",
       "   u'has_synonyms': True,\n",
       "   u'is_moderator_only': False,\n",
       "   u'is_required': False,\n",
       "   u'name': u'multithreading'},\n",
       "  {u'count': 9079,\n",
       "   u'has_synonyms': False,\n",
       "   u'is_moderator_only': False,\n",
       "   u'is_required': False,\n",
       "   u'name': u'opencv'},\n",
       "  {u'count': 9006,\n",
       "   u'has_synonyms': False,\n",
       "   u'is_moderator_only': False,\n",
       "   u'is_required': False,\n",
       "   u'name': u'sqlalchemy'},\n",
       "  {u'count': 8906,\n",
       "   u'has_synonyms': True,\n",
       "   u'is_moderator_only': False,\n",
       "   u'is_required': False,\n",
       "   u'name': u'javascript'},\n",
       "  {u'count': 8625,\n",
       "   u'has_synonyms': True,\n",
       "   u'is_moderator_only': False,\n",
       "   u'is_required': False,\n",
       "   u'name': u'windows'},\n",
       "  {u'count': 7988,\n",
       "   u'has_synonyms': True,\n",
       "   u'is_moderator_only': False,\n",
       "   u'is_required': False,\n",
       "   u'name': u'django-models'},\n",
       "  {u'count': 7971,\n",
       "   u'has_synonyms': True,\n",
       "   u'is_moderator_only': False,\n",
       "   u'is_required': False,\n",
       "   u'name': u'scikit-learn'},\n",
       "  {u'count': 7867,\n",
       "   u'has_synonyms': True,\n",
       "   u'is_moderator_only': False,\n",
       "   u'is_required': False,\n",
       "   u'name': u'function'},\n",
       "  {u'count': 7830,\n",
       "   u'has_synonyms': False,\n",
       "   u'is_moderator_only': False,\n",
       "   u'is_required': False,\n",
       "   u'name': u'pyqt'},\n",
       "  {u'count': 7652,\n",
       "   u'has_synonyms': True,\n",
       "   u'is_moderator_only': False,\n",
       "   u'is_required': False,\n",
       "   u'name': u'class'},\n",
       "  {u'count': 7622,\n",
       "   u'has_synonyms': True,\n",
       "   u'is_moderator_only': False,\n",
       "   u'is_required': False,\n",
       "   u'name': u'web-scraping'},\n",
       "  {u'count': 7530,\n",
       "   u'has_synonyms': False,\n",
       "   u'is_moderator_only': False,\n",
       "   u'is_required': False,\n",
       "   u'name': u'machine-learning'},\n",
       "  {u'count': 7318,\n",
       "   u'has_synonyms': False,\n",
       "   u'is_moderator_only': False,\n",
       "   u'is_required': False,\n",
       "   u'name': u'pygame'},\n",
       "  {u'count': 7273,\n",
       "   u'has_synonyms': True,\n",
       "   u'is_moderator_only': False,\n",
       "   u'is_required': False,\n",
       "   u'name': u'loops'},\n",
       "  {u'count': 7166,\n",
       "   u'has_synonyms': True,\n",
       "   u'is_moderator_only': False,\n",
       "   u'is_required': False,\n",
       "   u'name': u'xml'},\n",
       "  {u'count': 6960,\n",
       "   u'has_synonyms': False,\n",
       "   u'is_moderator_only': False,\n",
       "   u'is_required': False,\n",
       "   u'name': u'scrapy'},\n",
       "  {u'count': 6887,\n",
       "   u'has_synonyms': True,\n",
       "   u'is_moderator_only': False,\n",
       "   u'is_required': False,\n",
       "   u'name': u'pip'},\n",
       "  {u'count': 6735,\n",
       "   u'has_synonyms': True,\n",
       "   u'is_moderator_only': False,\n",
       "   u'is_required': False,\n",
       "   u'name': u'macos'},\n",
       "  {u'count': 6690,\n",
       "   u'has_synonyms': True,\n",
       "   u'is_moderator_only': False,\n",
       "   u'is_required': False,\n",
       "   u'name': u'file'},\n",
       "  {u'count': 6647,\n",
       "   u'has_synonyms': True,\n",
       "   u'is_moderator_only': False,\n",
       "   u'is_required': False,\n",
       "   u'name': u'c++'},\n",
       "  {u'count': 6559,\n",
       "   u'has_synonyms': True,\n",
       "   u'is_moderator_only': False,\n",
       "   u'is_required': False,\n",
       "   u'name': u'datetime'},\n",
       "  {u'count': 6465,\n",
       "   u'has_synonyms': True,\n",
       "   u'is_moderator_only': False,\n",
       "   u'is_required': False,\n",
       "   u'name': u'algorithm'},\n",
       "  {u'count': 6226,\n",
       "   u'has_synonyms': True,\n",
       "   u'is_moderator_only': False,\n",
       "   u'is_required': False,\n",
       "   u'name': u'sockets'},\n",
       "  {u'count': 6175,\n",
       "   u'has_synonyms': True,\n",
       "   u'is_moderator_only': False,\n",
       "   u'is_required': False,\n",
       "   u'name': u'subprocess'},\n",
       "  {u'count': 5935,\n",
       "   u'has_synonyms': True,\n",
       "   u'is_moderator_only': False,\n",
       "   u'is_required': False,\n",
       "   u'name': u'for-loop'}],\n",
       " u'quota_max': 300,\n",
       " u'quota_remaining': 200}"
      ]
     },
     "execution_count": 9,
     "metadata": {},
     "output_type": "execute_result"
    }
   ],
   "source": [
    "data"
   ]
  },
  {
   "cell_type": "markdown",
   "metadata": {},
   "source": [
    "Check the type of the data:"
   ]
  },
  {
   "cell_type": "code",
   "execution_count": 10,
   "metadata": {},
   "outputs": [
    {
     "data": {
      "text/plain": [
       "dict"
      ]
     },
     "execution_count": 10,
     "metadata": {},
     "output_type": "execute_result"
    }
   ],
   "source": [
    "type(data)"
   ]
  },
  {
   "cell_type": "markdown",
   "metadata": {},
   "source": [
    "And check how many items there are inside the data:"
   ]
  },
  {
   "cell_type": "code",
   "execution_count": 11,
   "metadata": {},
   "outputs": [
    {
     "data": {
      "text/plain": [
       "50"
      ]
     },
     "execution_count": 11,
     "metadata": {},
     "output_type": "execute_result"
    }
   ],
   "source": [
    "len(data['items'])"
   ]
  },
  {
   "cell_type": "markdown",
   "metadata": {},
   "source": [
    "That's it for a simple API crawler. In more advanced API crawlers, you should also deal with pagination to scroll through big amounts of pages of data, but for the scope of this course this is omitted.\n",
    "\n",
    "Lets save the JSON data to a pickle to be used by the next notebook:"
   ]
  },
  {
   "cell_type": "code",
   "execution_count": 12,
   "metadata": {},
   "outputs": [],
   "source": [
    "pickle.dump(data, open(\"jsoncontent_notebook_04.pickle\", \"wb\"))"
   ]
  },
  {
   "cell_type": "code",
   "execution_count": 13,
   "metadata": {},
   "outputs": [
    {
     "name": "stdout",
     "output_type": "stream",
     "text": [
      "-rw-rw-r-- 1 jitsejan   6486 Apr 13 05:01 jsoncontent_notebook_04.pickle\r\n",
      "-rw-rw-r-- 1 jitsejan 361003 Apr 12 10:15 json_dataframe_notebook_05.pickle\r\n",
      "-rw-rw-r-- 1 jitsejan  22128 Apr 12 09:00 json_dataframe_notebook_07.pickle\r\n",
      "-rw-rw-r-- 1 jitsejan 243226 Apr 13 05:01 xmlcontent_notebook_04.pickle\r\n",
      "-rw-rw-r-- 1 jitsejan 213967 Apr 12 10:15 xml_dataframe_notebook_05.pickle\r\n"
     ]
    }
   ],
   "source": [
    "ll *.pickle"
   ]
  }
 ],
 "metadata": {
  "kernelspec": {
   "display_name": "Python 2",
   "language": "python",
   "name": "python2"
  },
  "language_info": {
   "codemirror_mode": {
    "name": "ipython",
    "version": 2
   },
   "file_extension": ".py",
   "mimetype": "text/x-python",
   "name": "python",
   "nbconvert_exporter": "python",
   "pygments_lexer": "ipython2",
   "version": "2.7.14"
  }
 },
 "nbformat": 4,
 "nbformat_minor": 2
}
