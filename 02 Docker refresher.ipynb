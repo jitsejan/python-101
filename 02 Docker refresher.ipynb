{
 "cells": [
  {
   "cell_type": "markdown",
   "metadata": {},
   "source": [
    "# Python training for data engineers\n",
    "\n",
    "## 02. Docker refresher\n",
    "\n",
    "**Important** \n",
    "\n",
    "<font color=\"red\">\n",
    "Docker is not needed for this course, but is strongly advised to start using Docker. Follow the installation instructions to get started. You could choose to use the notebooks either locally, or in a virtual environment (See [Part 03](03%20Python%20development.ipynb)of this course).\n",
    "</font>\n",
    "\n",
    "<img src=\"https://pbs.twimg.com/profile_images/862037907862765568/pYgBswUk_400x400.jpg\" width=200px />\n",
    "\n",
    "> Docker provides a way to run applications securely isolated in a container, packaged with all its dependencies and libraries.\n",
    "\n",
    "* [Docker Home](https://www.docker.com/)\n",
    "* [Installation of Docker on Windows](https://docs.docker.com/docker-for-windows/install/)\n",
    "* [Documentation of Docker](https://docs.docker.com/get-started/)\n",
    "\n",
    "Important commands:\n",
    "\n",
    "| Description                 | Command            |\n",
    "| :-------------------------- | :----------------: |\n",
    "| Show all running containers | `docker ps`        |\n",
    "| Show all containers         | `docker ps -a`     |\n",
    "| Start container             | `docker start <container-id>` |\n",
    "| Build a container           | `docker build . (--file Dockerfile --target myimage)` |\n",
    "| Run a container             | `docker run . (--file Dockerfile)` |\n",
    "| Remove container            | `docker rm <container-id>` |\n",
    "| Show all images             | `docker images`        |\n",
    "| Remove image                | `docker rmi <image-id>` |\n",
    "\n",
    "### Introduction\n",
    "The following steps show how to make the Dockerfile, build an image from it and finally creating and starting the container."
   ]
  },
  {
   "cell_type": "markdown",
   "metadata": {},
   "source": [
    "#### Create the dockerfile"
   ]
  },
  {
   "cell_type": "code",
   "execution_count": 1,
   "metadata": {},
   "outputs": [
    {
     "name": "stdout",
     "output_type": "stream",
     "text": [
      "Writing Dockerfile.example\n"
     ]
    }
   ],
   "source": [
    "%%file Dockerfile.example\n",
    "FROM       python\n",
    "RUN        pip install pipenv\n",
    "COPY       . /app\n",
    "WORKDIR    /app\n",
    "RUN        pipenv install --deploy --dev\n",
    "ENV        SHELL=/bin/bash\n",
    "ENTRYPOINT [\"pipenv\", \"run\"]\n",
    "CMD        [\"python\"]"
   ]
  },
  {
   "cell_type": "markdown",
   "metadata": {},
   "source": [
    "#### Build the image"
   ]
  },
  {
   "cell_type": "markdown",
   "metadata": {},
   "source": [
    "```bash\n",
    "$ docker build . --file Dockerfile.example\n",
    "```"
   ]
  },
  {
   "cell_type": "code",
   "execution_count": 2,
   "metadata": {},
   "outputs": [
    {
     "name": "stdout",
     "output_type": "stream",
     "text": [
      "Sending build context to Docker daemon  8.341MB\n",
      "Step 1/8 : FROM       python\n",
      " ---> efb6baa1169f\n",
      "Step 2/8 : RUN        pip install pipenv\n",
      " ---> Using cache\n",
      " ---> 596c24a65073\n",
      "Step 3/8 : COPY       . /app\n",
      " ---> 1610ad66093a\n",
      "Step 4/8 : WORKDIR    /app\n",
      "Removing intermediate container 77e4db52200f\n",
      " ---> 996d8046e1ef\n",
      "Step 5/8 : RUN        pipenv install --deploy --dev\n",
      " ---> Running in 1c794a9af1d7\n",
      "\u001b[91mCreating a virtualenv for this project…\n",
      "\u001b[0m\u001b[91mUsing /usr/local/bin/python (3.6.5) to create virtualenv…\n",
      "\u001b[0m\u001b[91mAlready using interpreter /usr/local/bin/python\n",
      "Using base prefix '/usr/local'\n",
      "New python executable in /root/.local/share/virtualenvs/app-4PlAip0Q/bin/python\n",
      "Installing setuptools, pip, wheel...done.\n",
      "\n",
      "\u001b[0m\u001b[91mVirtualenv location: /root/.local/share/virtualenvs/app-4PlAip0Q\n",
      "\u001b[0m\u001b[91mCreating a Pipfile for this project…\n",
      "\u001b[0m\u001b[91mPipfile.lock not found, creating…\n",
      "\u001b[0m\u001b[91mLocking [dev-packages] dependencies…\n",
      "\u001b[0m\u001b[91mLocking [packages] dependencies…\n",
      "\u001b[0m\u001b[91mUpdated Pipfile.lock (625834)!\n",
      "\u001b[0mInstalling dependencies from Pipfile.lock (625834)…\n",
      "Removing intermediate container 1c794a9af1d7\n",
      " ---> cec23f2b21c5\n",
      "Step 6/8 : ENV        SHELL=/bin/bash\n",
      " ---> Running in 8f3b34429e80\n",
      "Removing intermediate container 8f3b34429e80\n",
      " ---> b63d4f861e0c\n",
      "Step 7/8 : ENTRYPOINT [\"pipenv\", \"run\"]\n",
      " ---> Running in d1d68ef50570\n",
      "Removing intermediate container d1d68ef50570\n",
      " ---> 066543b7c33b\n",
      "Step 8/8 : CMD        [\"python\"]\n",
      " ---> Running in ff56c35a88a8\n",
      "Removing intermediate container ff56c35a88a8\n",
      " ---> 31d0dc13d7e2\n",
      "Successfully built 31d0dc13d7e2\n",
      "Successfully tagged testimage:latest\n"
     ]
    }
   ],
   "source": [
    "!docker build . --file Dockerfile.example -t testimage"
   ]
  },
  {
   "cell_type": "markdown",
   "metadata": {},
   "source": [
    "#### Verify that the image has been created"
   ]
  },
  {
   "cell_type": "code",
   "execution_count": 3,
   "metadata": {},
   "outputs": [
    {
     "name": "stdout",
     "output_type": "stream",
     "text": [
      "testimage                   latest              31d0dc13d7e2        1 second ago        748MB\r\n"
     ]
    }
   ],
   "source": [
    "!docker images | grep testimage"
   ]
  },
  {
   "cell_type": "markdown",
   "metadata": {},
   "source": [
    "#### Create the docker-compose file"
   ]
  },
  {
   "cell_type": "code",
   "execution_count": 4,
   "metadata": {},
   "outputs": [
    {
     "name": "stdout",
     "output_type": "stream",
     "text": [
      "Writing docker-compose.yml\n"
     ]
    }
   ],
   "source": [
    "%%file docker-compose.yml\n",
    "version: '2'\n",
    "\n",
    "services:\n",
    "  app:\n",
    "    image: testimage"
   ]
  },
  {
   "cell_type": "markdown",
   "metadata": {},
   "source": [
    "#### Start the container"
   ]
  },
  {
   "cell_type": "markdown",
   "metadata": {},
   "source": [
    "```bash\n",
    "$ docker-compose (--file docker-compose.yml) up -d\n",
    "```"
   ]
  },
  {
   "cell_type": "code",
   "execution_count": 5,
   "metadata": {},
   "outputs": [
    {
     "name": "stdout",
     "output_type": "stream",
     "text": [
      "Creating network \"python101_default\" with the default driver\n",
      "Creating python101_app_1\n"
     ]
    }
   ],
   "source": [
    "!docker-compose --file docker-compose.yml up -d"
   ]
  },
  {
   "cell_type": "markdown",
   "metadata": {},
   "source": [
    "#### Verify if the container is created"
   ]
  },
  {
   "cell_type": "code",
   "execution_count": 6,
   "metadata": {},
   "outputs": [
    {
     "name": "stdout",
     "output_type": "stream",
     "text": [
      "f89d6abf62d1        testimage                   \"pipenv run python\"      1 second ago        Up Less than a second                         python101_app_1\r\n"
     ]
    }
   ],
   "source": [
    "!docker ps -a | grep app"
   ]
  },
  {
   "cell_type": "markdown",
   "metadata": {},
   "source": [
    "#### Remove the container"
   ]
  },
  {
   "cell_type": "code",
   "execution_count": 11,
   "metadata": {},
   "outputs": [
    {
     "name": "stdout",
     "output_type": "stream",
     "text": [
      "f89\r\n"
     ]
    }
   ],
   "source": [
    "!docker rm f89"
   ]
  },
  {
   "cell_type": "markdown",
   "metadata": {},
   "source": [
    "#### Verify the container has been removed"
   ]
  },
  {
   "cell_type": "code",
   "execution_count": 12,
   "metadata": {},
   "outputs": [],
   "source": [
    "!docker ps -a | grep app"
   ]
  },
  {
   "cell_type": "markdown",
   "metadata": {},
   "source": [
    "#### Remove the image"
   ]
  },
  {
   "cell_type": "code",
   "execution_count": 13,
   "metadata": {},
   "outputs": [
    {
     "name": "stdout",
     "output_type": "stream",
     "text": [
      "Untagged: testimage:latest\r\n",
      "Deleted: sha256:31d0dc13d7e263cbcb481ecfb3b3ef503e771b372e534f2f2b17f67ea4c28fad\r\n",
      "Deleted: sha256:066543b7c33b5dc7511c805e5731e302d40c48b453691d475fce5914ba90d9aa\r\n",
      "Deleted: sha256:b63d4f861e0cd138b6f33a9cd2e649aa4bdc08a347c17cdb457f59b197139274\r\n",
      "Deleted: sha256:cec23f2b21c59b03ed70329d81c110ab72bb3edf45357e54884f8e19343e9b3a\r\n",
      "Deleted: sha256:834c3c78e268cf1803ec72ca570076f43bfb054ab14f37bcdd580c452361163b\r\n",
      "Deleted: sha256:996d8046e1efccfac6348eacb2e0ec7c8daf29d36cdbb8b27da85ee1e5e501f7\r\n",
      "Deleted: sha256:1610ad66093a84f58118345ea2cbe6ae5f55ceb9fb01aa67e3f48ad65f4936aa\r\n",
      "Deleted: sha256:68375b112ed933cbad038763887cfc3682b0086796f1fdf79c51391a6d408273\r\n"
     ]
    }
   ],
   "source": [
    "!docker rmi testimage"
   ]
  },
  {
   "cell_type": "markdown",
   "metadata": {},
   "source": [
    "#### Verify the images has been removed"
   ]
  },
  {
   "cell_type": "code",
   "execution_count": 14,
   "metadata": {},
   "outputs": [],
   "source": [
    "!docker images | grep testimage"
   ]
  }
 ],
 "metadata": {
  "kernelspec": {
   "display_name": "Python 2",
   "language": "python",
   "name": "python2"
  },
  "language_info": {
   "codemirror_mode": {
    "name": "ipython",
    "version": 2
   },
   "file_extension": ".py",
   "mimetype": "text/x-python",
   "name": "python",
   "nbconvert_exporter": "python",
   "pygments_lexer": "ipython2",
   "version": "2.7.14"
  }
 },
 "nbformat": 4,
 "nbformat_minor": 2
}
