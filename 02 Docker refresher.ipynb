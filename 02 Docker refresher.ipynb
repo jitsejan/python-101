{
 "cells": [
  {
   "cell_type": "markdown",
   "metadata": {},
   "source": [
    "# Python training for data engineers\n",
    "\n",
    "## 02. Docker refresher\n",
    "\n",
    "<img src=\"https://pbs.twimg.com/profile_images/862037907862765568/pYgBswUk_400x400.jpg\" width=200px />\n",
    "\n",
    "> Docker provides a way to run applications securely isolated in a container, packaged with all its dependencies and libraries.\n",
    "\n",
    "* [Home](https://www.docker.com/)\n",
    "* [Installation Windows](https://docs.docker.com/docker-for-windows/install/)\n",
    "* [Docs](https://docs.docker.com/get-started/)\n",
    "\n",
    "Important commands:\n",
    "\n",
    "| Description                 | Command            |\n",
    "| :-------------------------- | :----------------: |\n",
    "| Show all running containers | `docker ps`        |\n",
    "| Show all containers         | `docker ps -a`     |\n",
    "| Start container             | `docker start <container-id>` |\n",
    "| Build a container           | `docker build . (--file Dockerfile --target myimage)` |\n",
    "| Run a container             | `docker run . (--file Dockerfile)` |\n",
    "| Remove container            | `docker rm <container-id>` |\n",
    "| Show all images             | `docker images`        |\n",
    "| Remove image                | `docker rmi <image-id>` |\n",
    "\n",
    "### Introduction\n",
    "The following steps show how to make the Dockerfile, build an image from it and finally creating and starting the container."
   ]
  },
  {
   "cell_type": "markdown",
   "metadata": {},
   "source": [
    "#### Create the dockerfile"
   ]
  },
  {
   "cell_type": "code",
   "execution_count": 1,
   "metadata": {},
   "outputs": [
    {
     "name": "stdout",
     "output_type": "stream",
     "text": [
      "Writing Dockerfile.example\n"
     ]
    }
   ],
   "source": [
    "%%file Dockerfile.example\n",
    "FROM       python\n",
    "RUN        pip install pipenv\n",
    "COPY       . /app\n",
    "WORKDIR    /app\n",
    "RUN        pipenv install --deploy --dev\n",
    "ENV        SHELL=/bin/bash\n",
    "ENTRYPOINT [\"pipenv\", \"run\"]\n",
    "CMD        [\"python\"]"
   ]
  },
  {
   "cell_type": "markdown",
   "metadata": {},
   "source": [
    "#### Build the image"
   ]
  },
  {
   "cell_type": "markdown",
   "metadata": {},
   "source": [
    "```bash\n",
    "$ docker build . --file Dockerfile.example\n",
    "```"
   ]
  },
  {
   "cell_type": "code",
   "execution_count": 13,
   "metadata": {},
   "outputs": [
    {
     "name": "stdout",
     "output_type": "stream",
     "text": [
      "Sending build context to Docker daemon  22.14MB\n",
      "Step 1/8 : FROM       python\n",
      " ---> efb6baa1169f\n",
      "Step 2/8 : RUN        pip install pipenv\n",
      " ---> Using cache\n",
      " ---> 596c24a65073\n",
      "Step 3/8 : COPY       . /app\n",
      " ---> 8ed303dc010e\n",
      "Step 4/8 : WORKDIR    /app\n",
      "Removing intermediate container 1eeb1744c6ef\n",
      " ---> c9380c001660\n",
      "Step 5/8 : RUN        pipenv install --deploy --dev\n",
      " ---> Running in eaf229651c1d\n",
      "\u001b[91mCreating a virtualenv for this project…\n",
      "\u001b[0m\u001b[91mUsing /usr/local/bin/python (3.6.5) to create virtualenv…\n",
      "\u001b[0m\u001b[91mAlready using interpreter /usr/local/bin/python\n",
      "Using base prefix '/usr/local'\n",
      "New python executable in /root/.local/share/virtualenvs/app-4PlAip0Q/bin/python\n",
      "Installing setuptools, pip, wheel...done.\n",
      "\n",
      "Virtualenv location: /root/.local/share/virtualenvs/app-4PlAip0Q\n",
      "\u001b[0m\u001b[91mCreating a Pipfile for this project…\n",
      "\u001b[0m\u001b[91mPipfile.lock not found, creating…\n",
      "\u001b[0m\u001b[91mLocking [dev-packages] dependencies…\n",
      "\u001b[0m\u001b[91mLocking [packages] dependencies…\n",
      "\u001b[0m\u001b[91mUpdated Pipfile.lock (625834)!\n",
      "\u001b[0mInstalling dependencies from Pipfile.lock (625834)…\n",
      "Removing intermediate container eaf229651c1d\n",
      " ---> 95e153c17693\n",
      "Step 6/8 : ENV        SHELL=/bin/bash\n",
      " ---> Running in 99f17424e26a\n",
      "Removing intermediate container 99f17424e26a\n",
      " ---> f322d7f44c2e\n",
      "Step 7/8 : ENTRYPOINT [\"pipenv\", \"run\"]\n",
      " ---> Running in d4d0c5182266\n",
      "Removing intermediate container d4d0c5182266\n",
      " ---> 89756178df7d\n",
      "Step 8/8 : CMD        [\"python\"]\n",
      " ---> Running in eb31184f1207\n",
      "Removing intermediate container eb31184f1207\n",
      " ---> 1fd1e7443716\n",
      "Successfully built 1fd1e7443716\n",
      "Successfully tagged testimage:latest\n"
     ]
    }
   ],
   "source": [
    "!docker build . --file Dockerfile.example -t testimage"
   ]
  },
  {
   "cell_type": "markdown",
   "metadata": {},
   "source": [
    "#### Verify that the image has been created"
   ]
  },
  {
   "cell_type": "code",
   "execution_count": 15,
   "metadata": {},
   "outputs": [
    {
     "name": "stdout",
     "output_type": "stream",
     "text": [
      "testimage                   latest              1fd1e7443716        20 seconds ago      761MB\r\n"
     ]
    }
   ],
   "source": [
    "!docker images | grep testimage"
   ]
  },
  {
   "cell_type": "markdown",
   "metadata": {},
   "source": [
    "#### Create the docker-compose file"
   ]
  },
  {
   "cell_type": "code",
   "execution_count": 19,
   "metadata": {},
   "outputs": [
    {
     "name": "stdout",
     "output_type": "stream",
     "text": [
      "Overwriting docker-compose.yml\n"
     ]
    }
   ],
   "source": [
    "%%file docker-compose.yml\n",
    "version: '2'\n",
    "\n",
    "services:\n",
    "  app:\n",
    "    image: testimage"
   ]
  },
  {
   "cell_type": "markdown",
   "metadata": {},
   "source": [
    "#### Start the container"
   ]
  },
  {
   "cell_type": "markdown",
   "metadata": {},
   "source": [
    "```bash\n",
    "$ docker-compose (--file docker-compose.yml) up -d\n",
    "```"
   ]
  },
  {
   "cell_type": "code",
   "execution_count": 36,
   "metadata": {},
   "outputs": [
    {
     "name": "stdout",
     "output_type": "stream",
     "text": [
      "Starting itilitypython101_app_1\r\n"
     ]
    }
   ],
   "source": [
    "!docker-compose --file docker-compose.yml up -d"
   ]
  },
  {
   "cell_type": "markdown",
   "metadata": {},
   "source": [
    "#### Verify if the container is created"
   ]
  },
  {
   "cell_type": "code",
   "execution_count": 40,
   "metadata": {},
   "outputs": [
    {
     "name": "stdout",
     "output_type": "stream",
     "text": [
      "7c514d254579        testimage                   \"pipenv run python\"      7 minutes ago       Exited (0) 39 seconds ago                                      itilitypython101_app_1\r\n"
     ]
    }
   ],
   "source": [
    "!docker ps -a | grep app"
   ]
  },
  {
   "cell_type": "markdown",
   "metadata": {},
   "source": [
    "#### Remove the container"
   ]
  },
  {
   "cell_type": "code",
   "execution_count": 41,
   "metadata": {},
   "outputs": [
    {
     "name": "stdout",
     "output_type": "stream",
     "text": [
      "7c5\r\n"
     ]
    }
   ],
   "source": [
    "!docker rm 7c5"
   ]
  },
  {
   "cell_type": "markdown",
   "metadata": {},
   "source": [
    "#### Verify the container has been removed"
   ]
  },
  {
   "cell_type": "code",
   "execution_count": 42,
   "metadata": {},
   "outputs": [],
   "source": [
    "!docker ps -a | grep app"
   ]
  },
  {
   "cell_type": "markdown",
   "metadata": {},
   "source": [
    "#### Remove the image"
   ]
  },
  {
   "cell_type": "code",
   "execution_count": 43,
   "metadata": {},
   "outputs": [
    {
     "name": "stdout",
     "output_type": "stream",
     "text": [
      "Untagged: testimage:latest\r\n",
      "Deleted: sha256:1fd1e7443716043dd10fb1f9e5aea3a6521e8f2197c4bad632af12b2f4ca9871\r\n",
      "Deleted: sha256:89756178df7d123ade9529e1b3a63e777b15f8aa49cfbe15d57b8c7755bd436a\r\n",
      "Deleted: sha256:f322d7f44c2eb9116ccc00eb2bdf7334c4e9b5236b2802349acc8141e5b03ce1\r\n",
      "Deleted: sha256:95e153c17693640ac3ee6c7e8cec606fac504fa3e83a5ea5a3d928101ac2dede\r\n",
      "Deleted: sha256:081b0fc210913c2544cf19e7f890fdf1cbc2cd02cc1ef206836ef3219ae65bbb\r\n",
      "Deleted: sha256:c9380c001660b5fd30e1f74225107c2f166eff550dde2acd5d427400a5904bcb\r\n",
      "Deleted: sha256:8ed303dc010e93f746ebf495e0918fd56e274c5ba728ac9f3a85c1d1d68cc6ac\r\n",
      "Deleted: sha256:275360b816dc3d57ea577fc750f1e8633dc0a1514f1d49e098d45934b4698c01\r\n"
     ]
    }
   ],
   "source": [
    "!docker rmi testimage"
   ]
  },
  {
   "cell_type": "markdown",
   "metadata": {},
   "source": [
    "#### Verify the images has been removed"
   ]
  },
  {
   "cell_type": "code",
   "execution_count": 45,
   "metadata": {},
   "outputs": [],
   "source": [
    "!docker images | grep testimage"
   ]
  }
 ],
 "metadata": {
  "kernelspec": {
   "display_name": "Python 2",
   "language": "python",
   "name": "python2"
  },
  "language_info": {
   "codemirror_mode": {
    "name": "ipython",
    "version": 2
   },
   "file_extension": ".py",
   "mimetype": "text/x-python",
   "name": "python",
   "nbconvert_exporter": "python",
   "pygments_lexer": "ipython2",
   "version": "2.7.14"
  }
 },
 "nbformat": 4,
 "nbformat_minor": 2
}
