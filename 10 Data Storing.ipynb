{
 "cells": [
  {
   "cell_type": "markdown",
   "metadata": {},
   "source": [
    "# Python training for data engineers\n",
    "## 10. Data Storing\n",
    "As we have seen we can data in different ways. `pickle` can be used to save any variable. Pandas `dataframes` have native support for pickles. SKlearn models support pickles directly as well. A Pandas dataframe can be saved to CSV, JSON and other formats too.\n",
    "\n",
    "**Note** \n",
    "\n",
    "This list is not exhaustive."
   ]
  },
  {
   "cell_type": "markdown",
   "metadata": {},
   "source": [
    "Saving a variable:\n",
    "```python\n",
    "pickle.dump(my_variable, open(\"my_pickle.pickle\", \"wb\"))\n",
    "```\n",
    "\n",
    "Loading the variable:\n",
    "```python\n",
    "my_variable = pickle.load(open(\"my_pickle.pickle\", \"rb\"))\n",
    "```\n",
    "\n",
    "Saving a dataframe to a pickle:\n",
    "```python\n",
    "df.to_pickle('df.pickle')\n",
    "```\n",
    "\n",
    "Saving a dataframe to a CSV file:\n",
    "```python\n",
    "df.to_csv('df.csv')\n",
    "```\n",
    "\n",
    "Loading a dataframe from a pickle:\n",
    "```python\n",
    "df = pd.read_pickle('df.pickle')\n",
    "```"
   ]
  },
  {
   "cell_type": "markdown",
   "metadata": {},
   "source": [
    "Saving the training model using `sklearn`:\n",
    "    \n",
    "```python\n",
    "from sklearn.externals import joblib\n",
    "joblib.dump(my_model, 'random_forest.mdl')\n",
    "```\n",
    "\n",
    "\n",
    "Loading the training model using `sklearn`:\n",
    "```\n",
    "saved_model = joblib.load('random_forest.mdl')\n",
    "```\n",
    "\n",
    "Of course there are many more ways of storing data. For example, look at the [API for dataframes](https://pandas.pydata.org/pandas-docs/stable/api.html) to see all the possibilities. "
   ]
  }
 ],
 "metadata": {
  "kernelspec": {
   "display_name": "Python 2",
   "language": "python",
   "name": "python2"
  },
  "language_info": {
   "codemirror_mode": {
    "name": "ipython",
    "version": 2
   },
   "file_extension": ".py",
   "mimetype": "text/x-python",
   "name": "python",
   "nbconvert_exporter": "python",
   "pygments_lexer": "ipython2",
   "version": "2.7.14"
  }
 },
 "nbformat": 4,
 "nbformat_minor": 2
}
