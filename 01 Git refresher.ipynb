{
 "cells": [
  {
   "cell_type": "markdown",
   "metadata": {},
   "source": [
    "# Python training for data engineers\n",
    "## 01. Git refresher\n",
    "\n",
    "\n",
    "<img src=\"https://git-scm.com/images/logo@2x.png\" width=200px />\n",
    "\n",
    "> Git is a free and open source distributed version control system designed to handle everything from small to very large projects with speed and efficiency.\n",
    "\n",
    "* [Home](https://git-scm.com/)\n",
    "* [Installation Windows](https://git-scm.com/download/win)\n",
    "* [Docs](https://git-scm.com/docs)\n",
    "\n",
    "Important commands:\n",
    "\n",
    "| Description                 | Command            |\n",
    "| --------------------------- | ------------------ |\n",
    "| Start a Git repository      | `git init`         |\n",
    "| Check the status of the repo| `git status`       |\n",
    "| Add all (changed) files to commit     | `git add .` |\n",
    "| Add a specific file to commit | `git add myfile.py` |\n",
    "| Commit to Git | `git commit -m 'My commit message' `|\n",
    "| Push to Git | `git push origin branch` |\n",
    "| Pull from Git | `git pull origin branch` |"
   ]
  }
 ],
 "metadata": {
  "kernelspec": {
   "display_name": "Python 2",
   "language": "python",
   "name": "python2"
  },
  "language_info": {
   "codemirror_mode": {
    "name": "ipython",
    "version": 2
   },
   "file_extension": ".py",
   "mimetype": "text/x-python",
   "name": "python",
   "nbconvert_exporter": "python",
   "pygments_lexer": "ipython2",
   "version": "2.7.14"
  }
 },
 "nbformat": 4,
 "nbformat_minor": 2
}
