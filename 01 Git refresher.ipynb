{
 "cells": [
  {
   "cell_type": "markdown",
   "metadata": {},
   "source": [
    "# Python training for data engineers\n",
    "## 01. Git refresher\n",
    "\n",
    "**Important** \n",
    "\n",
    "Make sure that Git is installed on your machine. To verify, open a shell and type the command `git`. If this fails, follow the necessary steps to install Git.\n",
    "\n",
    "<img src=\"https://git-scm.com/images/logo@2x.png\" width=200px />\n",
    "\n",
    "> Git is a free and open source distributed version control system designed to handle everything from small to very large projects with speed and efficiency.\n",
    "\n",
    "* [Home of Git](https://git-scm.com/)\n",
    "* [Installation of Git on Windows](https://git-scm.com/download/win)\n",
    "* [Git Docs](https://git-scm.com/docs)\n",
    "\n",
    "Important commands:\n",
    "\n",
    "| Description                 | Command            |\n",
    "| --------------------------- | ------------------ |\n",
    "| Start a Git repository      | `git init`         |\n",
    "| Check the status of the repo| `git status`       |\n",
    "| Add all (changed) files to commit     | `git add .` |\n",
    "| Add a specific file to commit | `git add myfile.py` |\n",
    "| Commit to Git | `git commit -m 'My commit message' `|\n",
    "| Push to Git | `git push origin branch` |\n",
    "| Pull from Git | `git pull origin branch` |\n",
    "| Create branch | `git checkout -b my-branch` |\n",
    "| Clone repository | `git clone myrepo.git` |"
   ]
  },
  {
   "cell_type": "markdown",
   "metadata": {},
   "source": [
    "### Example\n",
    "```shell\n",
    "$ git clone https://bitbucket.org/itility/python-101\n",
    "$ cd python-101\n",
    "python-101 (master) $ git status\n",
    "python-101 (master) $ git checkout -b my-branch\n",
    "python-101 (my-branch) $ echo \"testfile\" >> testfile.txt\n",
    "python-101 (my-branch) $ git add testfile.txt\n",
    "python-101 (my-branch) $ git status\n",
    "python-101 (my-branch) $ git commit -m 'Added testfile'\n",
    "python-101 (my-branch) $ git push\n",
    "python-101 (my-branch) $ git checkout master\n",
    "python-101 (master) $ git merge my-branch\n",
    "```"
   ]
  },
  {
   "cell_type": "markdown",
   "metadata": {},
   "source": [
    "### Optional Git tools:\n",
    "\n",
    "#### SourceTree\n",
    "<img src=\"https://www.sourcetreeapp.com/dam/jcr:f32681c1-355d-4806-b29c-319b0c6ecb06/Sourcetree-blue.svg?cdnVersion=kq\" width=200/>\n",
    "\n",
    "> Sourcetree simplifies how you interact with your Git repositories so you can focus on coding. Visualize and manage your repositories through Sourcetree's simple Git GUI.\n",
    "\n",
    "[Home of SourceTree](https://www.sourcetreeapp.com/)\n"
   ]
  },
  {
   "cell_type": "markdown",
   "metadata": {},
   "source": [
    "#### SmartGit\n",
    "\n",
    "<img src=\"https://www.syntevo.com/assets/images/logos/smartgit-8c1aa1e2.svg\" width=100 />\n",
    "\n",
    "> SmartGit is a Git client with support for GitHub Pull Requests+Comments and SVN. It runs on Mac OS X, Windows and Linux.\n",
    "\n",
    "[Home of SmartGit](https://www.syntevo.com/smartgit/)"
   ]
  }
 ],
 "metadata": {
  "kernelspec": {
   "display_name": "Python 2",
   "language": "python",
   "name": "python2"
  },
  "language_info": {
   "codemirror_mode": {
    "name": "ipython",
    "version": 2
   },
   "file_extension": ".py",
   "mimetype": "text/x-python",
   "name": "python",
   "nbconvert_exporter": "python",
   "pygments_lexer": "ipython2",
   "version": "2.7.14"
  }
 },
 "nbformat": 4,
 "nbformat_minor": 2
}
