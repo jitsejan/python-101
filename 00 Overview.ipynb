{
 "cells": [
  {
   "cell_type": "markdown",
   "metadata": {},
   "source": [
    "# Python training for data engineers\n",
    "## 00. Overview\n",
    "\n",
    "01. [Git refresher](01%20Git%20refresher.ipynb)\n",
    "02. [Docker refresher](02%20Docker%20refresher.ipynb)\n",
    "03. [Python development](03%20Python%20development.ipynb)\n",
    "04. [Data ingestion](04%20Data%20Ingestion.ipynb)\n",
    "05. [Data cleaning](05%20Data%20Cleaning.ipynb)\n",
    "06. [Data filtering](06%20Data%20Filtering.ipynb)\n",
    "07. [Data enriching](07%20Data%20Enriching.ipynb)\n",
    "08. [Data visualization](08%20Data%20visualization.ipynb)\n",
    "09. [Data modelling](09%20Data%20Modelling.ipynb)\n",
    "10. [Data storing](10%20Data%20Storing.ipynb)"
   ]
  }
 ],
 "metadata": {
  "kernelspec": {
   "display_name": "Python 3",
   "language": "python",
   "name": "python3"
  },
  "language_info": {
   "codemirror_mode": {
    "name": "ipython",
    "version": 3
   },
   "file_extension": ".py",
   "mimetype": "text/x-python",
   "name": "python",
   "nbconvert_exporter": "python",
   "pygments_lexer": "ipython3",
   "version": "3.6.3"
  }
 },
 "nbformat": 4,
 "nbformat_minor": 2
}
